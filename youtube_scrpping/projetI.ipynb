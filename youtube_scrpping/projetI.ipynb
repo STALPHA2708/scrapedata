{
 "cells": [
  {
   "cell_type": "code",
   "execution_count": 64,
   "metadata": {},
   "outputs": [],
   "source": [
    "import nltk\n",
    "from nltk.corpus import stopwords\n",
    "from nltk.tokenize import word_tokenize\n",
    "from nltk.stem import WordNetLemmatizer\n",
    "import re\n",
    "import pandas as pd\n"
   ]
  },
  {
   "cell_type": "code",
   "execution_count": 23,
   "metadata": {},
   "outputs": [
    {
     "name": "stderr",
     "output_type": "stream",
     "text": [
      "[nltk_data] Downloading package stopwords to\n",
      "[nltk_data]     C:\\Users\\Administrator\\AppData\\Roaming\\nltk_data...\n",
      "[nltk_data]   Package stopwords is already up-to-date!\n"
     ]
    }
   ],
   "source": [
    "#initialize stopwords\n",
    "nltk.download('stopwords')\n",
    "stop_words = set(stopwords.words('english'))\n",
    "lemmatizer = WordNetLemmatizer()\n",
    "\n",
    "stop_words = set(stopwords.words('frensh'))\n",
    "lemmatizer = WordNetLemmatizer()"
   ]
  },
  {
   "cell_type": "code",
   "execution_count": 24,
   "metadata": {},
   "outputs": [
    {
     "data": {
      "text/html": [
       "<div>\n",
       "<style scoped>\n",
       "    .dataframe tbody tr th:only-of-type {\n",
       "        vertical-align: middle;\n",
       "    }\n",
       "\n",
       "    .dataframe tbody tr th {\n",
       "        vertical-align: top;\n",
       "    }\n",
       "\n",
       "    .dataframe thead th {\n",
       "        text-align: right;\n",
       "    }\n",
       "</style>\n",
       "<table border=\"1\" class=\"dataframe\">\n",
       "  <thead>\n",
       "    <tr style=\"text-align: right;\">\n",
       "      <th></th>\n",
       "      <th>Text</th>\n",
       "      <th>Tokenized</th>\n",
       "    </tr>\n",
       "  </thead>\n",
       "  <tbody>\n",
       "    <tr>\n",
       "      <th>0</th>\n",
       "      <td>lord god angels</td>\n",
       "      <td>['lord', 'god', 'angels']</td>\n",
       "    </tr>\n",
       "    <tr>\n",
       "      <th>1</th>\n",
       "      <td>blessings iv hated needles young strong im for...</td>\n",
       "      <td>['blessings', 'iv', 'hated', 'needles', 'young...</td>\n",
       "    </tr>\n",
       "    <tr>\n",
       "      <th>2</th>\n",
       "      <td>stage 4 small cell stage 5 3 1 2 years took 16...</td>\n",
       "      <td>['stage', 'small', 'cell', 'stage', 'years', '...</td>\n",
       "    </tr>\n",
       "    <tr>\n",
       "      <th>3</th>\n",
       "      <td>delia</td>\n",
       "      <td>['delia']</td>\n",
       "    </tr>\n",
       "    <tr>\n",
       "      <th>4</th>\n",
       "      <td>get well soon</td>\n",
       "      <td>['get', 'well', 'soon']</td>\n",
       "    </tr>\n",
       "  </tbody>\n",
       "</table>\n",
       "</div>"
      ],
      "text/plain": [
       "                                                Text  \\\n",
       "0                                    lord god angels   \n",
       "1  blessings iv hated needles young strong im for...   \n",
       "2  stage 4 small cell stage 5 3 1 2 years took 16...   \n",
       "3                                              delia   \n",
       "4                                      get well soon   \n",
       "\n",
       "                                           Tokenized  \n",
       "0                          ['lord', 'god', 'angels']  \n",
       "1  ['blessings', 'iv', 'hated', 'needles', 'young...  \n",
       "2  ['stage', 'small', 'cell', 'stage', 'years', '...  \n",
       "3                                          ['delia']  \n",
       "4                            ['get', 'well', 'soon']  "
      ]
     },
     "execution_count": 24,
     "metadata": {},
     "output_type": "execute_result"
    }
   ],
   "source": [
    "file_path = 'TOKENSSSSS.csv'\n",
    "data = pd.read_csv(file_path)\n",
    "data.head()"
   ]
  },
  {
   "cell_type": "code",
   "execution_count": 25,
   "metadata": {},
   "outputs": [],
   "source": [
    "#function to clean lematize the data\n",
    "def clean_text(tokens):\n",
    "\n",
    "    tokens = [re.sub(r'\\W+', '', token) for token in tokens]\n",
    "    tokens = [token.lower() for token in tokens]\n",
    "    tokens = [token for token in tokens if token not in stop_words]\n",
    "    tokens = [lemmatizer.lemmatize(token) for token in tokens]\n",
    "    tokens = [token for token in tokens if len(token) > 2]\n",
    "    return tokens"
   ]
  },
  {
   "cell_type": "code",
   "execution_count": 17,
   "metadata": {},
   "outputs": [
    {
     "name": "stdout",
     "output_type": "stream",
     "text": [
      "                                                Text  \\\n",
      "0                                    lord god angels   \n",
      "1  blessings iv hated needles young strong im for...   \n",
      "2  stage 4 small cell stage 5 3 1 2 years took 16...   \n",
      "3                                              delia   \n",
      "4                                      get well soon   \n",
      "\n",
      "                                      Cleaned_Tokens  \n",
      "0                                 [lord, god, angel]  \n",
      "1  [blessing, hated, needle, young, strong, forty...  \n",
      "2  [stage, small, cell, stage, year, took, chemo,...  \n",
      "3                                            [delia]  \n",
      "4                                  [get, well, soon]  \n"
     ]
    }
   ],
   "source": [
    "#apply the function\n",
    "data['Cleaned_Tokens'] = data['Tokenized'].apply(lambda x: clean_text(eval(x)))\n",
    "\n",
    "#saving thecleaned data\n",
    "data.to_csv('projetintegrer.csv', index = False)\n",
    "\n",
    "#display the cleaned data\n",
    "print(data[['Text', 'Cleaned_Tokens']].head())"
   ]
  },
  {
   "cell_type": "code",
   "execution_count": 58,
   "metadata": {},
   "outputs": [
    {
     "name": "stdout",
     "output_type": "stream",
     "text": [
      "Index(['Text', 'Tokenized', 'Cleaned_Tokens'], dtype='object')\n"
     ]
    },
    {
     "data": {
      "image/png": "[encoded data removed]",
      "text/plain": [
       "<Figure size 1000x800 with 1 Axes>"
      ]
     },
     "metadata": {},
     "output_type": "display_data"
    }
   ],
   "source": [
    "import pandas as pd\n",
    "import matplotlib.pyplot as plt\n",
    "\n",
    "# Load your data\n",
    "data = pd.read_csv('projetintegrer.csv')\n",
    "\n",
    "# Print the columns of the DataFrame to verify the column name\n",
    "print(data.columns)\n",
    "\n",
    "# Assuming the target variable is in a column named 'Cleaned_Tokens'\n",
    "target_column = 'Cleaned_Tokens'\n",
    "\n",
    "# Check if the target column exists\n",
    "if target_column in data.columns:\n",
    "    # Clean the target column by removing square brackets and converting lists to strings\n",
    "    data[target_column] = data[target_column].astype(str).str.replace('[','').str.replace(']','').str.replace(\"'\",\"\").str.replace('\"','')\n",
    "\n",
    "    # Get the value counts of the target variable\n",
    "    value_counts = data[target_column].value_counts()\n",
    "\n",
    "    # Display the top N classes\n",
    "    N = 10\n",
    "    top_classes = value_counts.head(N)\n",
    "\n",
    "    # Plot the top N classes\n",
    "    plt.figure(figsize=(10, 8))\n",
    "    top_classes.plot(kind='barh')\n",
    "    plt.title('Top N Class Distribution')\n",
    "    plt.xlabel('Count')\n",
    "    plt.ylabel('Class')\n",
    "    plt.show()\n",
    "else:\n",
    "    print(f\"Column '{target_column}' does not exist in the DataFrame.\")\n",
    "\n"
   ]
  },
  {
   "cell_type": "code",
   "execution_count": 55,
   "metadata": {},
   "outputs": [
    {
     "name": "stdout",
     "output_type": "stream",
     "text": [
      "Index(['Text', 'Tokenized', 'Cleaned_Tokens'], dtype='object')\n",
      "0                                       lord god angel\n",
      "1    blessing hated needle young strong forty best ...\n",
      "2    stage small cell stage year took chemo immune ...\n",
      "3                                                delia\n",
      "4                                        get well soon\n",
      "Name: Cleaned_Tokens, dtype: object\n",
      "              precision    recall  f1-score   support\n",
      "\n",
      "           0       0.46      0.55      0.50       174\n",
      "           1       0.55      0.46      0.50       205\n",
      "\n",
      "    accuracy                           0.50       379\n",
      "   macro avg       0.50      0.50      0.50       379\n",
      "weighted avg       0.51      0.50      0.50       379\n",
      "\n"
     ]
    }
   ],
   "source": [
    "import pandas as pd\n",
    "from sklearn.model_selection import train_test_split\n",
    "from sklearn.feature_extraction.text import TfidfVectorizer\n",
    "from sklearn.linear_model import LogisticRegression\n",
    "from sklearn.metrics import classification_report\n",
    "\n",
    "# Load your data\n",
    "data = pd.read_csv('projetintegrer.csv')\n",
    "\n",
    "# Print the columns of the DataFrame to verify the column name\n",
    "print(data.columns)\n",
    "\n",
    "# Ensure 'Cleaned_Tokens' column exists\n",
    "if 'Cleaned_Tokens' not in data.columns:\n",
    "    print(\"Column 'Cleaned_Tokens' does not exist in the DataFrame.\")\n",
    "else:\n",
    "    import numpy as np\n",
    "    \n",
    "    data['Sentiment'] = np.random.randint(0, 2, size=len(data))\n",
    "\n",
    "    # Clean the 'Cleaned_Tokens' column by joining lists into strings\n",
    "    data['Cleaned_Tokens'] = data['Cleaned_Tokens'].apply(lambda x: ' '.join(eval(x)) if isinstance(x, str) else ' '.join(x))\n",
    "\n",
    "    # Check if the conversion was successful\n",
    "    print(data['Cleaned_Tokens'].head())\n",
    "\n",
    "    # Split the data into training and testing sets\n",
    "    X_train, X_test, y_train, y_test = train_test_split(data['Cleaned_Tokens'], data['Sentiment'], test_size=0.2, random_state=42)\n",
    "\n",
    "    # Vectorize the text data\n",
    "    vectorizer = TfidfVectorizer(max_features=5000)\n",
    "    X_train_tfidf = vectorizer.fit_transform(X_train)\n",
    "    X_test_tfidf = vectorizer.transform(X_test)\n",
    "\n",
    "    # Train a Logistic Regression model\n",
    "    model = LogisticRegression()\n",
    "    model.fit(X_train_tfidf, y_train)\n",
    "\n",
    "    # Make predictions on the test set\n",
    "    y_pred = model.predict(X_test_tfidf)\n",
    "\n",
    "    # Print the classification report\n",
    "    print(classification_report(y_test, y_pred))\n"
   ]
  },
  {
   "cell_type": "code",
   "execution_count": 59,
   "metadata": {},
   "outputs": [
    {
     "name": "stdout",
     "output_type": "stream",
     "text": [
      "naive bayes accuracy: 0.5171503957783641\n",
      "naive bayes classification report:\n",
      "               precision    recall  f1-score   support\n",
      "\n",
      "           0       0.48      0.54      0.51       174\n",
      "           1       0.56      0.50      0.53       205\n",
      "\n",
      "    accuracy                           0.52       379\n",
      "   macro avg       0.52      0.52      0.52       379\n",
      "weighted avg       0.52      0.52      0.52       379\n",
      "\n"
     ]
    }
   ],
   "source": [
    "from sklearn.naive_bayes import MultinomialNB\n",
    "from sklearn.metrics import classification_report, accuracy_score\n",
    "\n",
    "nb_model = MultinomialNB()\n",
    "nb_model.fit(X_train_tfidf, y_train)\n",
    "nb_pred = nb_model.predict(X_test_tfidf)\n",
    "nb_accuracy = accuracy_score(y_test, nb_pred)\n",
    "nb_report = classification_report(y_test, nb_pred)\n",
    "\n",
    "print(\"naive bayes accuracy:\", nb_accuracy)\n",
    "print(\"naive bayes classification report:\\n\", nb_report)"
   ]
  },
  {
   "cell_type": "code",
   "execution_count": 60,
   "metadata": {},
   "outputs": [
    {
     "name": "stdout",
     "output_type": "stream",
     "text": [
      "Random Forest Accuracy: 0.5197889182058048\n",
      "Random Forest Classification Report:\n",
      "               precision    recall  f1-score   support\n",
      "\n",
      "           0       0.48      0.48      0.48       174\n",
      "           1       0.56      0.56      0.56       205\n",
      "\n",
      "    accuracy                           0.52       379\n",
      "   macro avg       0.52      0.52      0.52       379\n",
      "weighted avg       0.52      0.52      0.52       379\n",
      "\n"
     ]
    }
   ],
   "source": [
    "from sklearn.ensemble import RandomForestClassifier\n",
    "\n",
    "# Train and evaluate Random Forest model\n",
    "rf_model = RandomForestClassifier(n_estimators=100, random_state=42)\n",
    "rf_model.fit(X_train_tfidf, y_train)\n",
    "rf_pred = rf_model.predict(X_test_tfidf)\n",
    "rf_accuracy = accuracy_score(y_test, rf_pred)\n",
    "rf_report = classification_report(y_test, rf_pred)\n",
    "\n",
    "print(\"Random Forest Accuracy:\", rf_accuracy)\n",
    "print(\"Random Forest Classification Report:\\n\", rf_report)\n"
   ]
  },
  {
   "cell_type": "code",
   "execution_count": 62,
   "metadata": {},
   "outputs": [
    {
     "ename": "ModuleNotFoundError",
     "evalue": "No module named 'xgboost'",
     "output_type": "error",
     "traceback": [
      "\u001b[1;31m---------------------------------------------------------------------------\u001b[0m",
      "\u001b[1;31mModuleNotFoundError\u001b[0m                       Traceback (most recent call last)",
      "Cell \u001b[1;32mIn[62], line 1\u001b[0m\n\u001b[1;32m----> 1\u001b[0m \u001b[38;5;28;01mfrom\u001b[39;00m \u001b[38;5;21;01mxgboost\u001b[39;00m \u001b[38;5;28;01mimport\u001b[39;00m XGBClassifier\n\u001b[0;32m      3\u001b[0m \u001b[38;5;66;03m# Train and evaluate XGBoost model\u001b[39;00m\n\u001b[0;32m      4\u001b[0m xgb_model \u001b[38;5;241m=\u001b[39m XGBClassifier(use_label_encoder\u001b[38;5;241m=\u001b[39m\u001b[38;5;28;01mFalse\u001b[39;00m, eval_metric\u001b[38;5;241m=\u001b[39m\u001b[38;5;124m'\u001b[39m\u001b[38;5;124mlogloss\u001b[39m\u001b[38;5;124m'\u001b[39m)\n",
      "\u001b[1;31mModuleNotFoundError\u001b[0m: No module named 'xgboost'"
     ]
    }
   ],
   "source": [
    "from xgboost import XGBClassifier\n",
    "\n",
    "# Train and evaluate XGBoost model\n",
    "xgb_model = XGBClassifier(use_label_encoder=False, eval_metric='logloss')\n",
    "xgb_model.fit(X_train_tfidf, y_train)\n",
    "xgb_pred = xgb_model.predict(X_test_tfidf)\n",
    "xgb_accuracy = accuracy_score(y_test, xgb_pred)\n",
    "xgb_report = classification_report(y_test, xgb_pred)\n",
    "\n",
    "print(\"XGBoost Accuracy:\", xgb_accuracy)\n",
    "print(\"XGBoost Classification Report:\\n\", xgb_report)\n"
   ]
  },
  {
   "cell_type": "code",
   "execution_count": null,
   "metadata": {},
   "outputs": [],
   "source": []
  }
 ],
 "metadata": {
  "kernelspec": {
   "display_name": "Python 3",
   "language": "python",
   "name": "python3"
  },
  "language_info": {
   "codemirror_mode": {
    "name": "ipython",
    "version": 3
   },
   "file_extension": ".py",
   "mimetype": "text/x-python",
   "name": "python",
   "nbconvert_exporter": "python",
   "pygments_lexer": "ipython3",
   "version": "3.12.2"
  }
 },
 "nbformat": 4,
 "nbformat_minor": 2
}
