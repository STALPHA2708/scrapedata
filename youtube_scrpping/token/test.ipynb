{
 "cells": [
  {
   "cell_type": "code",
   "execution_count": 1,
   "metadata": {},
   "outputs": [
    {
     "name": "stderr",
     "output_type": "stream",
     "text": [
      "[nltk_data] Downloading package stopwords to\n",
      "[nltk_data]     C:\\Users\\Administrator\\AppData\\Roaming\\nltk_data...\n",
      "[nltk_data]   Package stopwords is already up-to-date!\n"
     ]
    },
    {
     "name": "stdout",
     "output_type": "stream",
     "text": [
      "\u001b[38;5;2m✔ Download and installation successful\u001b[0m\n",
      "You can now load the package via spacy.load('fr_core_news_sm')\n",
      "\u001b[38;5;3m⚠ Restart to reload dependencies\u001b[0m\n",
      "If you are in a Jupyter or Colab notebook, you may need to restart Python in\n",
      "order to load all the package's dependencies. You can do this by selecting the\n",
      "'Restart kernel' or 'Restart runtime' option.\n"
     ]
    },
    {
     "name": "stderr",
     "output_type": "stream",
     "text": [
      "c:\\Python312\\Lib\\site-packages\\sklearn\\metrics\\_classification.py:1471: UndefinedMetricWarning: Precision and F-score are ill-defined and being set to 0.0 in labels with no predicted samples. Use `zero_division` parameter to control this behavior.\n",
      "  _warn_prf(average, modifier, msg_start, len(result))\n",
      "c:\\Python312\\Lib\\site-packages\\sklearn\\metrics\\_classification.py:1471: UndefinedMetricWarning: Precision and F-score are ill-defined and being set to 0.0 in labels with no predicted samples. Use `zero_division` parameter to control this behavior.\n",
      "  _warn_prf(average, modifier, msg_start, len(result))\n",
      "c:\\Python312\\Lib\\site-packages\\sklearn\\metrics\\_classification.py:1471: UndefinedMetricWarning: Precision and F-score are ill-defined and being set to 0.0 in labels with no predicted samples. Use `zero_division` parameter to control this behavior.\n",
      "  _warn_prf(average, modifier, msg_start, len(result))\n"
     ]
    },
    {
     "name": "stdout",
     "output_type": "stream",
     "text": [
      "Naive Bayes Accuracy: 0.46437994722955145\n",
      "Naive Bayes Classification Report:\n",
      "               precision    recall  f1-score   support\n",
      "\n",
      "           0       0.46      1.00      0.63       176\n",
      "           1       0.00      0.00      0.00       203\n",
      "\n",
      "    accuracy                           0.46       379\n",
      "   macro avg       0.23      0.50      0.32       379\n",
      "weighted avg       0.22      0.46      0.29       379\n",
      "\n",
      "Random Forest Accuracy: 0.503957783641161\n",
      "Random Forest Classification Report:\n",
      "               precision    recall  f1-score   support\n",
      "\n",
      "           0       0.47      0.52      0.49       176\n",
      "           1       0.54      0.49      0.51       203\n",
      "\n",
      "    accuracy                           0.50       379\n",
      "   macro avg       0.51      0.51      0.50       379\n",
      "weighted avg       0.51      0.50      0.50       379\n",
      "\n",
      "XGBoost Accuracy: 0.48021108179419525\n",
      "XGBoost Classification Report:\n",
      "               precision    recall  f1-score   support\n",
      "\n",
      "           0       0.47      0.88      0.61       176\n",
      "           1       0.56      0.13      0.22       203\n",
      "\n",
      "    accuracy                           0.48       379\n",
      "   macro avg       0.52      0.51      0.41       379\n",
      "weighted avg       0.52      0.48      0.40       379\n",
      "\n"
     ]
    }
   ],
   "source": [
    "import pandas as pd\n",
    "from sklearn.feature_extraction.text import TfidfVectorizer\n",
    "from sklearn.model_selection import train_test_split, GridSearchCV\n",
    "from sklearn.naive_bayes import MultinomialNB\n",
    "from sklearn.ensemble import RandomForestClassifier\n",
    "from sklearn.metrics import classification_report, accuracy_score\n",
    "import nltk\n",
    "from nltk.corpus import stopwords\n",
    "import re\n",
    "import spacy\n",
    "from collections import Counter\n",
    "from xgboost import XGBClassifier\n",
    "\n",
    "# Download necessary NLTK data\n",
    "nltk.download('stopwords')\n",
    "\n",
    "# Download spaCy French model\n",
    "spacy.cli.download(\"fr_core_news_sm\")\n",
    "\n",
    "# Load spaCy French model\n",
    "nlp = spacy.load('fr_core_news_sm')\n",
    "\n",
    "# Load the dataset\n",
    "file_path = 'projetintegrer.csv'  # Update the path if necessary\n",
    "data = pd.read_csv(file_path)\n",
    "\n",
    "# Initialize French stopwords\n",
    "stop_words = set(stopwords.words('french'))\n",
    "\n",
    "# Function to clean tokenized text\n",
    "def clean_text(tokens):\n",
    "    # Remove punctuation and special characters\n",
    "    tokens = [re.sub(r'\\W+', '', token) for token in tokens]\n",
    "    # Convert to lowercase\n",
    "    tokens = [token.lower() for token in tokens]\n",
    "    # Remove stopwords\n",
    "    tokens = [token for token in tokens if token not in stop_words]\n",
    "    # Lemmatize using spaCy\n",
    "    doc = nlp(' '.join(tokens))\n",
    "    tokens = [token.lemma_ for token in doc]\n",
    "    # Remove short words\n",
    "    tokens = [token for token in tokens if len(token) > 2]\n",
    "    return tokens\n",
    "\n",
    "# Apply cleaning function to tokenized text\n",
    "data['Cleaned_Tokens'] = data['Tokenized'].apply(lambda x: clean_text(eval(x)))\n",
    "\n",
    "# Flatten the list of tokens to create a single list of all words\n",
    "all_words = [word for tokens in data['Cleaned_Tokens'] for word in tokens]\n",
    "\n",
    "# Calculate the frequency of each word\n",
    "word_freq = Counter(all_words)\n",
    "\n",
    "# Define a threshold for rare words (e.g., words that appear less than 5 times)\n",
    "threshold = 5\n",
    "\n",
    "# Create a set of rare words\n",
    "rare_words = {word for word, freq in word_freq.items() if freq < threshold}\n",
    "\n",
    "# Function to remove rare words from tokenized text\n",
    "def remove_rare_words(tokens):\n",
    "    return [token for token in tokens if token not in rare_words]\n",
    "\n",
    "# Apply the function to remove rare words\n",
    "data['Cleaned_Tokens'] = data['Cleaned_Tokens'].apply(remove_rare_words)\n",
    "data['Cleaned_Text'] = data['Cleaned_Tokens'].apply(lambda x: ' '.join(x))\n",
    "\n",
    "# Generate dummy sentiment labels for demonstration (replace with actual labels if available)\n",
    "import numpy as np\n",
    "np.random.seed(42)\n",
    "data['Sentiment'] = np.random.choice([0, 1], size=len(data))\n",
    "\n",
    "# Split data into training and testing sets\n",
    "X_train, X_test, y_train, y_test = train_test_split(data['Cleaned_Text'], data['Sentiment'], test_size=0.2, random_state=42)\n",
    "\n",
    "# Adjusting the TF-IDF vectorizer parameters\n",
    "vectorizer = TfidfVectorizer(\n",
    "    max_features=5000,  # Consider only the top 5000 features\n",
    "    ngram_range=(1, 2),  # Consider unigrams and bigrams\n",
    "    max_df=0.95,  # Ignore terms that appear in more than 95% of the documents\n",
    "    min_df=2  # Ignore terms that appear in fewer than 2 documents\n",
    ")\n",
    "\n",
    "X_train_tfidf = vectorizer.fit_transform(X_train)\n",
    "X_test_tfidf = vectorizer.transform(X_test)\n",
    "\n",
    "# Define hyperparameters for Grid Search\n",
    "param_grid_nb = {\n",
    "    'alpha': [0.01, 0.1, 1, 10, 100]\n",
    "}\n",
    "param_grid_rf = {\n",
    "    'n_estimators': [50, 100, 200],\n",
    "    'max_depth': [None, 10, 20, 30],\n",
    "    'min_samples_split': [2, 5, 10]\n",
    "}\n",
    "param_grid_xgb = {\n",
    "    'n_estimators': [50, 100, 200],\n",
    "    'max_depth': [3, 5, 7],\n",
    "    'learning_rate': [0.01, 0.1, 0.2]\n",
    "}\n",
    "\n",
    "# Perform Grid Search for Naive Bayes\n",
    "nb_model = MultinomialNB()\n",
    "grid_search_nb = GridSearchCV(nb_model, param_grid_nb, cv=5, scoring='accuracy')\n",
    "grid_search_nb.fit(X_train_tfidf, y_train)\n",
    "nb_best = grid_search_nb.best_estimator_\n",
    "\n",
    "# Train and evaluate the best Naive Bayes model\n",
    "nb_pred = nb_best.predict(X_test_tfidf)\n",
    "nb_accuracy = accuracy_score(y_test, nb_pred)\n",
    "nb_report = classification_report(y_test, nb_pred)\n",
    "\n",
    "print(\"Naive Bayes Accuracy:\", nb_accuracy)\n",
    "print(\"Naive Bayes Classification Report:\\n\", nb_report)\n",
    "\n",
    "# Perform Grid Search for Random Forest\n",
    "rf_model = RandomForestClassifier(random_state=42)\n",
    "grid_search_rf = GridSearchCV(rf_model, param_grid_rf, cv=5, scoring='accuracy')\n",
    "grid_search_rf.fit(X_train_tfidf, y_train)\n",
    "rf_best = grid_search_rf.best_estimator_\n",
    "\n",
    "# Train and evaluate the best Random Forest model\n",
    "rf_pred = rf_best.predict(X_test_tfidf)\n",
    "rf_accuracy = accuracy_score(y_test, rf_pred)\n",
    "rf_report = classification_report(y_test, rf_pred)\n",
    "\n",
    "print(\"Random Forest Accuracy:\", rf_accuracy)\n",
    "print(\"Random Forest Classification Report:\\n\", rf_report)\n",
    "\n",
    "# Perform Grid Search for XGBoost\n",
    "xgb_model = XGBClassifier(use_label_encoder=False, eval_metric='logloss')\n",
    "grid_search_xgb = GridSearchCV(xgb_model, param_grid_xgb, cv=5, scoring='accuracy')\n",
    "grid_search_xgb.fit(X_train_tfidf, y_train)\n",
    "xgb_best = grid_search_xgb.best_estimator_\n",
    "\n",
    "# Train and evaluate the best XGBoost model\n",
    "xgb_pred = xgb_best.predict(X_test_tfidf)\n",
    "xgb_accuracy = accuracy_score(y_test, xgb_pred)\n",
    "xgb_report = classification_report(y_test, xgb_pred)\n",
    "\n",
    "print(\"XGBoost Accuracy:\", xgb_accuracy)\n",
    "print(\"XGBoost Classification Report:\\n\", xgb_report)\n"
   ]
  },
  {
   "cell_type": "code",
   "execution_count": 8,
   "metadata": {},
   "outputs": [
    {
     "name": "stdout",
     "output_type": "stream",
     "text": [
      "Requirement already satisfied: smote in c:\\python312\\lib\\site-packages (0.1)\n",
      "Requirement already satisfied: numpy>=1.14.3 in c:\\python312\\lib\\site-packages (from smote) (1.26.2)\n",
      "Requirement already satisfied: scikit-learn>=0.19.1 in c:\\python312\\lib\\site-packages (from smote) (1.3.2)\n",
      "Requirement already satisfied: scipy>=1.5.0 in c:\\python312\\lib\\site-packages (from scikit-learn>=0.19.1->smote) (1.11.4)\n",
      "Requirement already satisfied: joblib>=1.1.1 in c:\\python312\\lib\\site-packages (from scikit-learn>=0.19.1->smote) (1.3.2)\n",
      "Requirement already satisfied: threadpoolctl>=2.0.0 in c:\\python312\\lib\\site-packages (from scikit-learn>=0.19.1->smote) (3.2.0)\n",
      "Requirement already satisfied: imbalanced-learn in c:\\python312\\lib\\site-packages (0.12.2)\n",
      "Requirement already satisfied: numpy>=1.17.3 in c:\\python312\\lib\\site-packages (from imbalanced-learn) (1.26.2)\n",
      "Requirement already satisfied: scipy>=1.5.0 in c:\\python312\\lib\\site-packages (from imbalanced-learn) (1.11.4)\n",
      "Requirement already satisfied: scikit-learn>=1.0.2 in c:\\python312\\lib\\site-packages (from imbalanced-learn) (1.3.2)\n",
      "Requirement already satisfied: joblib>=1.1.1 in c:\\python312\\lib\\site-packages (from imbalanced-learn) (1.3.2)\n",
      "Requirement already satisfied: threadpoolctl>=2.0.0 in c:\\python312\\lib\\site-packages (from imbalanced-learn) (3.2.0)\n"
     ]
    },
    {
     "name": "stderr",
     "output_type": "stream",
     "text": [
      "ERROR: Could not find a version that satisfies the requirement GridSearchCV (from versions: none)\n",
      "ERROR: No matching distribution found for GridSearchCV\n"
     ]
    }
   ],
   "source": [
    "!pip install smote\n",
    "!pip install imbalanced-learn\n",
    "!pip install GridSearchCV\n",
    "from imblearn.over_sampling import SMOTE\n",
    "from sklearn.pipeline import Pipeline\n",
    "\n"
   ]
  },
  {
   "cell_type": "code",
   "execution_count": 9,
   "metadata": {},
   "outputs": [
    {
     "name": "stdout",
     "output_type": "stream",
     "text": [
      "Naive Bayes Accuracy: 0.49340369393139843\n",
      "Naive Bayes Classification Report:\n",
      "               precision    recall  f1-score   support\n",
      "\n",
      "           0       0.46      0.56      0.51       176\n",
      "           1       0.53      0.44      0.48       203\n",
      "\n",
      "    accuracy                           0.49       379\n",
      "   macro avg       0.50      0.50      0.49       379\n",
      "weighted avg       0.50      0.49      0.49       379\n",
      "\n",
      "Random Forest Accuracy: 0.525065963060686\n",
      "Random Forest Classification Report:\n",
      "               precision    recall  f1-score   support\n",
      "\n",
      "           0       0.49      0.47      0.48       176\n",
      "           1       0.56      0.57      0.56       203\n",
      "\n",
      "    accuracy                           0.53       379\n",
      "   macro avg       0.52      0.52      0.52       379\n",
      "weighted avg       0.52      0.53      0.52       379\n",
      "\n",
      "XGBoost Accuracy: 0.5408970976253298\n",
      "XGBoost Classification Report:\n",
      "               precision    recall  f1-score   support\n",
      "\n",
      "           0       0.51      0.40      0.45       176\n",
      "           1       0.56      0.67      0.61       203\n",
      "\n",
      "    accuracy                           0.54       379\n",
      "   macro avg       0.53      0.53      0.53       379\n",
      "weighted avg       0.54      0.54      0.53       379\n",
      "\n"
     ]
    }
   ],
   "source": [
    "smote = SMOTE(random_state=42)\n",
    "X_train_resampled, y_train_resampled = smote.fit_resample(X_train_tfidf, y_train)\n",
    "\n",
    "\n",
    "# Naive Bayes\n",
    "nb_model = MultinomialNB()\n",
    "grid_search_nb = GridSearchCV(nb_model, param_grid_nb, cv=5, scoring='accuracy')\n",
    "grid_search_nb.fit(X_train_resampled, y_train_resampled)\n",
    "nb_best = grid_search_nb.best_estimator_\n",
    "\n",
    "# Train and evaluate the best Naive Bayes model\n",
    "nb_pred = nb_best.predict(X_test_tfidf)\n",
    "nb_accuracy = accuracy_score(y_test, nb_pred)\n",
    "nb_report = classification_report(y_test, nb_pred)\n",
    "\n",
    "print(\"Naive Bayes Accuracy:\", nb_accuracy)\n",
    "print(\"Naive Bayes Classification Report:\\n\", nb_report)\n",
    "\n",
    "# Random Forest\n",
    "rf_model = RandomForestClassifier(random_state=42)\n",
    "grid_search_rf = GridSearchCV(rf_model, param_grid_rf, cv=5, scoring='accuracy')\n",
    "grid_search_rf.fit(X_train_resampled, y_train_resampled)\n",
    "rf_best = grid_search_rf.best_estimator_\n",
    "\n",
    "# Train and evaluate the best Random Forest model\n",
    "rf_pred = rf_best.predict(X_test_tfidf)\n",
    "rf_accuracy = accuracy_score(y_test, rf_pred)\n",
    "rf_report = classification_report(y_test, rf_pred)\n",
    "\n",
    "print(\"Random Forest Accuracy:\", rf_accuracy)\n",
    "print(\"Random Forest Classification Report:\\n\", rf_report)\n",
    "\n",
    "# XGBoost\n",
    "xgb_model = XGBClassifier(use_label_encoder=False, eval_metric='logloss')\n",
    "grid_search_xgb = GridSearchCV(xgb_model, param_grid_xgb, cv=5, scoring='accuracy')\n",
    "grid_search_xgb.fit(X_train_resampled, y_train_resampled)\n",
    "xgb_best = grid_search_xgb.best_estimator_\n",
    "\n",
    "# Train and evaluate the best XGBoost model\n",
    "xgb_pred = xgb_best.predict(X_test_tfidf)\n",
    "xgb_accuracy = accuracy_score(y_test, xgb_pred)\n",
    "xgb_report = classification_report(y_test, xgb_pred)\n",
    "\n",
    "print(\"XGBoost Accuracy:\", xgb_accuracy)\n",
    "print(\"XGBoost Classification Report:\\n\", xgb_report)"
   ]
  },
  {
   "cell_type": "code",
   "execution_count": 4,
   "metadata": {},
   "outputs": [
    {
     "name": "stdout",
     "output_type": "stream",
     "text": [
      "Extracted tokens have been saved to newp.csv\n"
     ]
    }
   ],
   "source": [
    "import pandas as pd\n",
    "\n",
    "input_file_path = 'projetintegrer.csv'\n",
    "df = pd.read_csv(input_file_path)\n",
    "\n",
    "if 'Cleaned_Tokens' not in df.columns:\n",
    "    raise ValueError(\"mkynach had l column\")\n",
    "\n",
    "tokens = df['Cleaned_Tokens']\n",
    "\n",
    "output_file_path = 'newp.csv'\n",
    "tokens.to_csv(output_file_path, index = False, header = True)\n",
    "\n",
    "print(f\"Extracted tokens have been saved to {output_file_path}\")"
   ]
  },
  {
   "cell_type": "code",
   "execution_count": 5,
   "metadata": {},
   "outputs": [],
   "source": [
    "from imblearn.over_sampling import SMOTE"
   ]
  },
  {
   "cell_type": "code",
   "execution_count": 6,
   "metadata": {},
   "outputs": [],
   "source": [
    "\n",
    "file_path = 'projetintegrer.csv'\n",
    "data = pd.read_csv(file_path)"
   ]
  },
  {
   "cell_type": "code",
   "execution_count": 9,
   "metadata": {},
   "outputs": [
    {
     "name": "stdout",
     "output_type": "stream",
     "text": [
      "Index(['Text', 'Tokenized', 'Cleaned_Tokens'], dtype='object')\n"
     ]
    }
   ],
   "source": [
    "print(data.columns)\n",
    "\n",
    "#X = data['Cleaned_Tokens'].apply(lambda x: ' '.join(eval(x)))\n",
    "#y = data['Sentiment']"
   ]
  },
  {
   "cell_type": "code",
   "execution_count": 10,
   "metadata": {},
   "outputs": [
    {
     "name": "stdout",
     "output_type": "stream",
     "text": [
      "                                                Text  \\\n",
      "0                                    lord god angels   \n",
      "1  blessings iv hated needles young strong im for...   \n",
      "2  stage 4 small cell stage 5 3 1 2 years took 16...   \n",
      "3                                      get well soon   \n",
      "4                                      get well soon   \n",
      "\n",
      "                                           Tokenized  \\\n",
      "0                          ['lord', 'god', 'angels']   \n",
      "1  ['blessings', 'iv', 'hated', 'needles', 'young...   \n",
      "2  ['stage', 'small', 'cell', 'stage', 'years', '...   \n",
      "3                            ['get', 'well', 'soon']   \n",
      "4                            ['get', 'well', 'soon']   \n",
      "\n",
      "                                      Cleaned_Tokens  Sentiment  \n",
      "0                           ['lord', 'god', 'angel']          2  \n",
      "1  ['blessing', 'hated', 'needle', 'young', 'stro...          3  \n",
      "2  ['stage', 'small', 'cell', 'stage', 'year', 't...          3  \n",
      "3                            ['get', 'well', 'soon']          2  \n",
      "4                            ['get', 'well', 'soon']          2  \n"
     ]
    }
   ],
   "source": [
    "import pandas as pd\n",
    "from vaderSentiment.vaderSentiment import SentimentIntensityAnalyzer\n",
    "\n",
    "file_path = 'projetintegrer.csv'\n",
    "data = pd.read_csv(file_path)\n",
    "\n",
    "analyzer = SentimentIntensityAnalyzer()\n",
    "\n",
    "def classify_sentiment_vader(text):\n",
    "    score = analyzer.polarity_scores(text)\n",
    "    if score['compound'] >= 0.7:\n",
    "        return 3 #++++positive\n",
    "    elif score['compound'] > 0.1:\n",
    "        return 2 #positive\n",
    "    elif score['compound'] > -0.1:\n",
    "        return 1 #neutral\n",
    "    elif score['compound'] > -0.7:\n",
    "        return 0 #neg\n",
    "    else:\n",
    "        return 4 #++++++++++++neg\n",
    "    \n",
    "data['Sentiment'] = data['Cleaned_Tokens'].apply(lambda x: classify_sentiment_vader(' '.join(eval(x))))\n",
    "\n",
    "data.to_csv('zouhirdata.csv', index=False)\n",
    "\n",
    "print(data.head())\n"
   ]
  },
  {
   "cell_type": "code",
   "execution_count": 11,
   "metadata": {},
   "outputs": [
    {
     "name": "stdout",
     "output_type": "stream",
     "text": [
      "                                                Text  \\\n",
      "0                                    lord god angels   \n",
      "1  blessings iv hated needles young strong im for...   \n",
      "2  stage 4 small cell stage 5 3 1 2 years took 16...   \n",
      "3                                      get well soon   \n",
      "4                                      get well soon   \n",
      "\n",
      "                                           Tokenized  \\\n",
      "0                          ['lord', 'god', 'angels']   \n",
      "1  ['blessings', 'iv', 'hated', 'needles', 'young...   \n",
      "2  ['stage', 'small', 'cell', 'stage', 'years', '...   \n",
      "3                            ['get', 'well', 'soon']   \n",
      "4                            ['get', 'well', 'soon']   \n",
      "\n",
      "                                      Cleaned_Tokens  Sentiment  \n",
      "0                           ['lord', 'god', 'angel']          1  \n",
      "1  ['blessing', 'hated', 'needle', 'young', 'stro...          2  \n",
      "2  ['stage', 'small', 'cell', 'stage', 'year', 't...          2  \n",
      "3                            ['get', 'well', 'soon']          1  \n",
      "4                            ['get', 'well', 'soon']          1  \n"
     ]
    }
   ],
   "source": [
    "from textblob import TextBlob\n",
    "\n",
    "#def to classify sentiment\n",
    "def classify_sentiment_textblob(text):\n",
    "    analysis = TextBlob(text)\n",
    "    polarity = analysis.sentiment.polarity\n",
    "    if polarity >= 0.7:\n",
    "        return 3  # Hyper-positive\n",
    "    elif polarity > 0.1:\n",
    "        return 2  # Positive\n",
    "    elif polarity > -0.1:\n",
    "        return 1  # Neutral\n",
    "    elif polarity > -0.7:\n",
    "        return 0  # Negative\n",
    "    else:\n",
    "        return 4 #Hyper-negative\n",
    "    \n",
    "data['Sentiment'] = data['Cleaned_Tokens'].apply(lambda x: classify_sentiment_textblob(' '.join(eval(x))))\n",
    "\n",
    "data.to_csv('data.csv', index=False)\n",
    "\n",
    "print(data.head())\n"
   ]
  },
  {
   "cell_type": "code",
   "execution_count": 18,
   "metadata": {},
   "outputs": [
    {
     "name": "stderr",
     "output_type": "stream",
     "text": [
      "No model was supplied, defaulted to distilbert/distilbert-base-uncased-finetuned-sst-2-english and revision af0f99b (https://huggingface.co/distilbert/distilbert-base-uncased-finetuned-sst-2-english).\n",
      "Using a pipeline without specifying a model name and revision in production is not recommended.\n"
     ]
    },
    {
     "name": "stdout",
     "output_type": "stream",
     "text": [
      "Requirement already satisfied: transformers in c:\\python312\\lib\\site-packages (4.41.0)\n",
      "Requirement already satisfied: torch in c:\\python312\\lib\\site-packages (2.3.0)\n",
      "Requirement already satisfied: filelock in c:\\python312\\lib\\site-packages (from transformers) (3.13.1)\n",
      "Requirement already satisfied: huggingface-hub<1.0,>=0.23.0 in c:\\python312\\lib\\site-packages (from transformers) (0.23.1)\n",
      "Requirement already satisfied: numpy>=1.17 in c:\\python312\\lib\\site-packages (from transformers) (1.26.2)\n",
      "Requirement already satisfied: packaging>=20.0 in c:\\python312\\lib\\site-packages (from transformers) (23.2)\n",
      "Requirement already satisfied: pyyaml>=5.1 in c:\\python312\\lib\\site-packages (from transformers) (6.0.1)\n",
      "Requirement already satisfied: regex!=2019.12.17 in c:\\python312\\lib\\site-packages (from transformers) (2024.4.16)\n",
      "Requirement already satisfied: requests in c:\\python312\\lib\\site-packages (from transformers) (2.31.0)\n",
      "Requirement already satisfied: tokenizers<0.20,>=0.19 in c:\\python312\\lib\\site-packages (from transformers) (0.19.1)\n",
      "Requirement already satisfied: safetensors>=0.4.1 in c:\\python312\\lib\\site-packages (from transformers) (0.4.3)\n",
      "Requirement already satisfied: tqdm>=4.27 in c:\\python312\\lib\\site-packages (from transformers) (4.66.2)\n",
      "Requirement already satisfied: typing-extensions>=4.8.0 in c:\\python312\\lib\\site-packages (from torch) (4.9.0)\n",
      "Requirement already satisfied: sympy in c:\\python312\\lib\\site-packages (from torch) (1.12)\n",
      "Requirement already satisfied: networkx in c:\\python312\\lib\\site-packages (from torch) (3.3)\n",
      "Requirement already satisfied: jinja2 in c:\\python312\\lib\\site-packages (from torch) (3.1.2)\n",
      "Requirement already satisfied: fsspec in c:\\python312\\lib\\site-packages (from torch) (2024.5.0)\n",
      "Requirement already satisfied: mkl<=2021.4.0,>=2021.1.1 in c:\\python312\\lib\\site-packages (from torch) (2021.4.0)\n",
      "Requirement already satisfied: intel-openmp==2021.* in c:\\python312\\lib\\site-packages (from mkl<=2021.4.0,>=2021.1.1->torch) (2021.4.0)\n",
      "Requirement already satisfied: tbb==2021.* in c:\\python312\\lib\\site-packages (from mkl<=2021.4.0,>=2021.1.1->torch) (2021.12.0)\n",
      "Requirement already satisfied: colorama in c:\\python312\\lib\\site-packages (from tqdm>=4.27->transformers) (0.4.6)\n",
      "Requirement already satisfied: MarkupSafe>=2.0 in c:\\python312\\lib\\site-packages (from jinja2->torch) (2.1.3)\n",
      "Requirement already satisfied: charset-normalizer<4,>=2 in c:\\python312\\lib\\site-packages (from requests->transformers) (3.3.2)\n",
      "Requirement already satisfied: idna<4,>=2.5 in c:\\python312\\lib\\site-packages (from requests->transformers) (3.6)\n",
      "Requirement already satisfied: urllib3<3,>=1.21.1 in c:\\python312\\lib\\site-packages (from requests->transformers) (2.1.0)\n",
      "Requirement already satisfied: certifi>=2017.4.17 in c:\\python312\\lib\\site-packages (from requests->transformers) (2023.11.17)\n",
      "Requirement already satisfied: mpmath>=0.19 in c:\\python312\\lib\\site-packages (from sympy->torch) (1.3.0)\n",
      "                                      Cleaned_Tokens  Sentiment\n",
      "0                           ['lord', 'god', 'angel']          4\n",
      "1  ['blessing', 'hated', 'needle', 'young', 'stro...          4\n",
      "2  ['stage', 'small', 'cell', 'stage', 'year', 't...          4\n",
      "3                            ['get', 'well', 'soon']          4\n",
      "4                            ['get', 'well', 'soon']          4\n"
     ]
    }
   ],
   "source": [
    "!pip install transformers torch\n",
    "\n",
    "from transformers import pipeline\n",
    "\n",
    "# Initialize the sentiment-analysis pipeline\n",
    "classifier = pipeline('sentiment-analysis')\n",
    "\n",
    "# Function to classify sentiment\n",
    "def classify_sentiment_bert(text):\n",
    "    max_lenght = 512\n",
    "    truncated_text = text[:max_lenght]\n",
    "    result = classifier(text)[0]\n",
    "    label = result['label']\n",
    "    if label == 'HPos':  \n",
    "        return 3\n",
    "    elif label == 'Pos':  \n",
    "        return 2\n",
    "    elif label == 'N': \n",
    "        return 1\n",
    "    elif label == 'Neg':  \n",
    "        return 0\n",
    "    else:  \n",
    "        return 4\n",
    "    \n",
    "def classify_long_text(text):\n",
    "    max_lenght = 512\n",
    "    chunks = [text[i:i + max_lenght] for i in range(0, len(text), max_lenght)]\n",
    "    sentiments = [classify_sentiment_bert(chunk) for chunk in chunks]\n",
    "    return max(set(sentiments), key = sentiments.count)\n",
    "\n",
    "file_path = 'newp.csv'\n",
    "data = pd.read_csv(file_path)\n",
    "\n",
    "# Apply sentiment classification\n",
    "data['Sentiment'] = data['Cleaned_Tokens'].apply(lambda x: classify_long_text(' '.join(eval(x))))\n",
    "\n",
    "# Save the labeled data to a new CSV file (optional)\n",
    "data.to_csv('med.csv', index=False)\n",
    "\n",
    "# Verify the new column\n",
    "print(data.head())\n"
   ]
  },
  {
   "cell_type": "code",
   "execution_count": 20,
   "metadata": {},
   "outputs": [
    {
     "name": "stdout",
     "output_type": "stream",
     "text": [
      "           Count  Proportion\n",
      "Sentiment                   \n",
      "0            104    0.055026\n",
      "1            612    0.323810\n",
      "2           1005    0.531746\n",
      "3            158    0.083598\n",
      "4             11    0.005820\n"
     ]
    }
   ],
   "source": [
    "import pandas as pd\n",
    "#textblob distribution\n",
    "file_path = 'data.csv'\n",
    "data = pd.read_csv(file_path)\n",
    "\n",
    "\n",
    "sentiment_counts = data['Sentiment'].value_counts().sort_index()\n",
    "\n",
    "sentiment_proportions = sentiment_counts / len(data)\n",
    "\n",
    "sentiment_summary = pd.DataFrame({\n",
    "    'Count': sentiment_counts,\n",
    "    'Proportion': sentiment_proportions\n",
    "})\n",
    "\n",
    "print(sentiment_summary)"
   ]
  },
  {
   "cell_type": "code",
   "execution_count": 22,
   "metadata": {},
   "outputs": [
    {
     "data": {
      "image/png": "[encoded data removed]",
      "text/plain": [
       "<Figure size 640x480 with 1 Axes>"
      ]
     },
     "metadata": {},
     "output_type": "display_data"
    }
   ],
   "source": [
    "import matplotlib.pyplot as plt\n",
    "#textblob distribution\n",
    "# Plot the sentiment distribution\n",
    "sentiment_summary.plot(kind='bar', y='Proportion', legend=False)\n",
    "plt.title('Sentiment Distribution')\n",
    "plt.xlabel('Sentiment')\n",
    "plt.ylabel('Proportion')\n",
    "plt.xticks(rotation=0)\n",
    "plt.show()\n"
   ]
  },
  {
   "cell_type": "code",
   "execution_count": 23,
   "metadata": {},
   "outputs": [
    {
     "name": "stdout",
     "output_type": "stream",
     "text": [
      "           Count  Proportion\n",
      "Sentiment                   \n",
      "0            172    0.091005\n",
      "1            229    0.121164\n",
      "2            516    0.273016\n",
      "3            877    0.464021\n",
      "4             96    0.050794\n"
     ]
    }
   ],
   "source": [
    "import pandas as pd\n",
    "#vader distribution\n",
    "file_path = 'zouhirdata.csv'\n",
    "data = pd.read_csv(file_path)\n",
    "\n",
    "\n",
    "sentiment_counts = data['Sentiment'].value_counts().sort_index()\n",
    "\n",
    "sentiment_proportions = sentiment_counts / len(data)\n",
    "\n",
    "sentiment_summary = pd.DataFrame({\n",
    "    'Count': sentiment_counts,\n",
    "    'Proportion': sentiment_proportions\n",
    "})\n",
    "\n",
    "print(sentiment_summary)"
   ]
  },
  {
   "cell_type": "code",
   "execution_count": 24,
   "metadata": {},
   "outputs": [
    {
     "data": {
      "image/png": "[encoded data removed]",
      "text/plain": [
       "<Figure size 640x480 with 1 Axes>"
      ]
     },
     "metadata": {},
     "output_type": "display_data"
    }
   ],
   "source": [
    "import matplotlib.pyplot as plt\n",
    "\n",
    "# Plot the sentiment distribution\n",
    "sentiment_summary.plot(kind='bar', y='Proportion', legend=False)\n",
    "plt.title('Sentiment Distribution')\n",
    "plt.xlabel('Sentiment')\n",
    "plt.ylabel('Proportion')\n",
    "plt.xticks(rotation=0)\n",
    "plt.show()\n"
   ]
  },
  {
   "cell_type": "code",
   "execution_count": 26,
   "metadata": {},
   "outputs": [],
   "source": [
    "import pandas as pd\n",
    "from imblearn.over_sampling import SMOTE\n",
    "from sklearn.feature_extraction.text import TfidfVectorizer\n",
    "from sklearn.model_selection import train_test_split"
   ]
  },
  {
   "cell_type": "code",
   "execution_count": 33,
   "metadata": {},
   "outputs": [
    {
     "data": {
      "image/png": "[encoded data removed]",
      "text/plain": [
       "<Figure size 1000x600 with 1 Axes>"
      ]
     },
     "metadata": {},
     "output_type": "display_data"
    }
   ],
   "source": [
    "file_path = 'zouhirdata.csv'\n",
    "data = pd.read_csv(file_path)\n",
    "\n",
    "data['Cleaned_Tokens'] = data['Cleaned_Tokens'].apply(eval)\n",
    "\n",
    "X = data['Cleaned_Tokens'].apply(lambda x: ' '.join(x))\n",
    "y = data['Sentiment']\n",
    "\n",
    "#Tf-idf\n",
    "vectorizer = TfidfVectorizer(max_features=5000)\n",
    "X_tfidf = vectorizer.fit_transform(X)\n",
    "\n",
    "# Split data into training and test sets\n",
    "X_train, X_test, y_train, y_test = train_test_split(X_tfidf, y, test_size=0.2, random_state=42)\n",
    "\n",
    "# Apply SMOTE to balance the training set\n",
    "smote = SMOTE(random_state=42)\n",
    "X_train_balanced, y_train_balanced = smote.fit_resample(X_train, y_train)\n",
    "\n",
    "# Display the distribution of the balanced training set\n",
    "balanced_counts = pd.Series(y_train_balanced).value_counts().sort_index()\n",
    "\n",
    "# Plot the balanced sentiment distribution\n",
    "plt.figure(figsize=(10, 6))\n",
    "balanced_counts.plot(kind='bar', color=['red', 'blue', 'green', 'purple', 'orange'])\n",
    "plt.title('Balanced Sentiment Distribution')\n",
    "plt.xlabel('Sentiment')\n",
    "plt.ylabel('Count')\n",
    "plt.xticks(rotation=0)\n",
    "plt.show()"
   ]
  },
  {
   "cell_type": "code",
   "execution_count": 34,
   "metadata": {},
   "outputs": [
    {
     "name": "stdout",
     "output_type": "stream",
     "text": [
      "Naive Bayes Accuracy: 0.6005291005291006\n",
      "Naive Bayes Classification Report:\n",
      "              precision    recall  f1-score   support\n",
      "\n",
      "           0       0.28      0.39      0.33        33\n",
      "           1       0.88      0.40      0.55        53\n",
      "           2       0.50      0.39      0.44        89\n",
      "           3       0.76      0.82      0.79       180\n",
      "           4       0.23      0.43      0.30        23\n",
      "\n",
      "    accuracy                           0.60       378\n",
      "   macro avg       0.53      0.49      0.48       378\n",
      "weighted avg       0.64      0.60      0.60       378\n",
      "\n"
     ]
    }
   ],
   "source": [
    "#training the model after balanncing the csv file based on textblob\n",
    "from sklearn.naive_bayes import MultinomialNB\n",
    "from sklearn.metrics import classification_report, accuracy_score\n",
    "\n",
    "#train the model\n",
    "nb_model = MultinomialNB()\n",
    "nb_model.fit(X_train_balanced, y_train_balanced)\n",
    "nb_predictions = nb_model.predict(X_test)\n",
    "\n",
    "# Evaluate the Naive Bayes model\n",
    "print(\"Naive Bayes Accuracy:\", accuracy_score(y_test, nb_predictions))\n",
    "print(\"Naive Bayes Classification Report:\")\n",
    "print(classification_report(y_test, nb_predictions))"
   ]
  },
  {
   "cell_type": "code",
   "execution_count": 38,
   "metadata": {},
   "outputs": [
    {
     "name": "stdout",
     "output_type": "stream",
     "text": [
      "Random Forest Accuracy: 0.6878306878306878\n",
      "Random Forest Classification Report:\n",
      "              precision    recall  f1-score   support\n",
      "\n",
      "           0       0.37      0.52      0.43        33\n",
      "           1       0.67      0.85      0.75        53\n",
      "           2       0.59      0.56      0.57        89\n",
      "           3       0.84      0.82      0.83       180\n",
      "           4       0.20      0.04      0.07        23\n",
      "\n",
      "    accuracy                           0.69       378\n",
      "   macro avg       0.53      0.56      0.53       378\n",
      "weighted avg       0.68      0.69      0.68       378\n",
      "\n"
     ]
    }
   ],
   "source": [
    "from sklearn.ensemble import RandomForestClassifier\n",
    "from sklearn.metrics import classification_report, accuracy_score\n",
    "\n",
    "#train the model random forest\n",
    "rf_model = RandomForestClassifier()\n",
    "rf_model.fit(X_train_balanced, y_train_balanced)\n",
    "rf_predictions = rf_model.predict(X_test)\n",
    "\n",
    "#ecaluate the model\n",
    "print(\"Random Forest Accuracy:\", accuracy_score(y_test, rf_predictions))\n",
    "print(\"Random Forest Classification Report:\")\n",
    "print(classification_report(y_test, rf_predictions))\n"
   ]
  },
  {
   "cell_type": "code",
   "execution_count": 43,
   "metadata": {},
   "outputs": [
    {
     "name": "stdout",
     "output_type": "stream",
     "text": [
      "XGBoost Accuracy: 0.708994708994709\n",
      "XGBoost Classification Report:\n",
      "              precision    recall  f1-score   support\n",
      "\n",
      "           0       0.48      0.48      0.48        33\n",
      "           1       0.63      0.83      0.72        53\n",
      "           2       0.57      0.57      0.57        89\n",
      "           3       0.86      0.83      0.85       180\n",
      "           4       0.58      0.30      0.40        23\n",
      "\n",
      "    accuracy                           0.71       378\n",
      "   macro avg       0.63      0.61      0.60       378\n",
      "weighted avg       0.71      0.71      0.71       378\n",
      "\n"
     ]
    }
   ],
   "source": [
    "from xgboost import XGBClassifier\n",
    "\n",
    "#train the model\n",
    "xgb_model = XGBClassifier()\n",
    "xgb_model.fit(X_train_balanced, y_train_balanced)\n",
    "xgb_predictions = xgb_model.predict(X_test)\n",
    "\n",
    "#evaluation\n",
    "print(\"XGBoost Accuracy:\", accuracy_score(y_test, xgb_predictions))\n",
    "print(\"XGBoost Classification Report:\")\n",
    "print(classification_report(y_test, xgb_predictions))"
   ]
  },
  {
   "cell_type": "code",
   "execution_count": 45,
   "metadata": {},
   "outputs": [
    {
     "name": "stdout",
     "output_type": "stream",
     "text": [
      "KNN Accuracy: 0.24867724867724866\n",
      "KNN Classification Report:\n",
      "              precision    recall  f1-score   support\n",
      "\n",
      "           0       0.23      0.09      0.13        33\n",
      "           1       0.16      0.94      0.28        53\n",
      "           2       0.61      0.35      0.44        89\n",
      "           3       1.00      0.05      0.10       180\n",
      "           4       1.00      0.04      0.08        23\n",
      "\n",
      "    accuracy                           0.25       378\n",
      "   macro avg       0.60      0.30      0.21       378\n",
      "weighted avg       0.72      0.25      0.21       378\n",
      "\n"
     ]
    }
   ],
   "source": [
    "from sklearn.neighbors import KNeighborsClassifier\n",
    "from sklearn.metrics import classification_report, accuracy_score\n",
    "\n",
    "knn_model = KNeighborsClassifier()\n",
    "knn_model.fit(X_train_balanced, y_train_balanced)\n",
    "knn_predictions = knn_model.predict(X_test)\n",
    "\n",
    "#evvaluation\n",
    "print(\"KNN Accuracy:\", accuracy_score(y_test, knn_predictions))\n",
    "print(\"KNN Classification Report:\")\n",
    "print(classification_report(y_test, knn_predictions))"
   ]
  },
  {
   "cell_type": "code",
   "execution_count": 46,
   "metadata": {},
   "outputs": [
    {
     "name": "stdout",
     "output_type": "stream",
     "text": [
      "SVM Accuracy: 0.626984126984127\n",
      "SVM Classification Report:\n",
      "              precision    recall  f1-score   support\n",
      "\n",
      "           0       0.50      0.21      0.30        33\n",
      "           1       0.87      0.25      0.38        53\n",
      "           2       0.42      0.56      0.48        89\n",
      "           3       0.73      0.93      0.81       180\n",
      "           4       0.00      0.00      0.00        23\n",
      "\n",
      "    accuracy                           0.63       378\n",
      "   macro avg       0.50      0.39      0.40       378\n",
      "weighted avg       0.61      0.63      0.58       378\n",
      "\n"
     ]
    }
   ],
   "source": [
    "from sklearn.svm import SVC\n",
    "from sklearn.metrics import classification_report, accuracy_score\n",
    "\n",
    "# Train an SVM model\n",
    "svm_model = SVC()\n",
    "svm_model.fit(X_train_balanced, y_train_balanced)\n",
    "svm_predictions = svm_model.predict(X_test)\n",
    "\n",
    "# Evaluate the SVM model\n",
    "print(\"SVM Accuracy:\", accuracy_score(y_test, svm_predictions))\n",
    "print(\"SVM Classification Report:\")\n",
    "print(classification_report(y_test, svm_predictions))"
   ]
  },
  {
   "cell_type": "code",
   "execution_count": 47,
   "metadata": {},
   "outputs": [
    {
     "name": "stdout",
     "output_type": "stream",
     "text": [
      "Logistic Regression Accuracy: 0.6428571428571429\n",
      "Logistic Regression Classification Report:\n",
      "              precision    recall  f1-score   support\n",
      "\n",
      "           0       0.37      0.39      0.38        33\n",
      "           1       0.55      0.70      0.62        53\n",
      "           2       0.49      0.55      0.52        89\n",
      "           3       0.87      0.75      0.80       180\n",
      "           4       0.45      0.39      0.42        23\n",
      "\n",
      "    accuracy                           0.64       378\n",
      "   macro avg       0.55      0.56      0.55       378\n",
      "weighted avg       0.66      0.64      0.65       378\n",
      "\n"
     ]
    }
   ],
   "source": [
    "from sklearn.linear_model import LogisticRegression\n",
    "from sklearn.metrics import classification_report, accuracy_score\n",
    "\n",
    "# Train a Logistic Regression model\n",
    "logreg_model = LogisticRegression(max_iter=1000)\n",
    "logreg_model.fit(X_train_balanced, y_train_balanced)\n",
    "logreg_predictions = logreg_model.predict(X_test)\n",
    "\n",
    "# Evaluate the Logistic Regression model\n",
    "print(\"Logistic Regression Accuracy:\", accuracy_score(y_test, logreg_predictions))\n",
    "print(\"Logistic Regression Classification Report:\")\n",
    "print(classification_report(y_test, logreg_predictions))"
   ]
  },
  {
   "cell_type": "code",
   "execution_count": null,
   "metadata": {},
   "outputs": [],
   "source": [
    "\n"
   ]
  },
  {
   "cell_type": "code",
   "execution_count": null,
   "metadata": {},
   "outputs": [],
   "source": []
  }
 ],
 "metadata": {
  "kernelspec": {
   "display_name": "Python 3",
   "language": "python",
   "name": "python3"
  },
  "language_info": {
   "codemirror_mode": {
    "name": "ipython",
    "version": 3
   },
   "file_extension": ".py",
   "mimetype": "text/x-python",
   "name": "python",
   "nbconvert_exporter": "python",
   "pygments_lexer": "ipython3",
   "version": "3.12.2"
  }
 },
 "nbformat": 4,
 "nbformat_minor": 2
}
